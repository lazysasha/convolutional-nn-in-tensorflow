{
 "cells": [
  {
   "cell_type": "markdown",
   "metadata": {
    "collapsed": true,
    "pycharm": {
     "name": "#%% md\n"
    }
   },
   "source": [
    "# Week 4: Multiclass Classifications\n",
    "First thing to do is to replicate the folder structure into multiple classes:\n",
    "```shell\n",
    "/tmp/data/training/\n",
    "            /rock\n",
    "            /paper\n",
    "            /scissors\n",
    "/tmp/data/validation/\n",
    "            /rock\n",
    "            /paper\n",
    "            /scissors\n",
    "```\n"
   ]
  },
  {
   "cell_type": "code",
   "source": [
    "# Set up image generator:\n",
    "import tensorflow as tf\n",
    "\n",
    "train_datagen = tf.keras.preprocessing.image.ImageDataGenerator(rescale=1./255) # image augmentation via scaling\n",
    "train_generator = train_datagen.flow_from_directory(\n",
    "    'TODO', # train dir\n",
    "    target_size=(300, 300),\n",
    "    batch_size=128,\n",
    "    class_mode='categorical' # was 'binary' in prev versions!\n",
    ")\n",
    "\n",
    "# setup the model:\n",
    "model = tf.keras.models.Sequential([\n",
    "    tf.keras.layers.Conv2D(16, (3,3), activation='relu', input_shape=(300, 300, 3)),\n",
    "    tf.keras.layers.MaxPooling2D(2, 2),\n",
    "    tf.keras.layers.Conv2D(32, (3,3), activation='relu'),\n",
    "    tf.keras.layers.MaxPooling2D(2, 2),\n",
    "    tf.keras.layers.Conv2D(64, (3,3), activation='relu'),\n",
    "    tf.keras.layers.MaxPooling2D(2, 2),\n",
    "    tf.keras.layers.Flatten(),\n",
    "    tf.keras.layers.Dense(512, activation='relu'),\n",
    "    tf.keras.layers.Dense(1, activation='softmax') # was 'sigmoid' before in binary classification\n",
    "])\n",
    "\n",
    "# Compile the network:\n",
    "from tensorflow.keras.optimizers import RMSprop\n",
    "model.compile(loss='categorical_crossentropy', # was 'binary_crossentropy' in binary classification\n",
    "              optimizer=RMSprop(lr=0.001),\n",
    "              metrics=['acc'])"
   ],
   "metadata": {
    "collapsed": false,
    "pycharm": {
     "name": "#%%\n"
    }
   },
   "execution_count": null,
   "outputs": []
  }
 ],
 "metadata": {
  "kernelspec": {
   "display_name": "Python 3",
   "language": "python",
   "name": "python3"
  },
  "language_info": {
   "codemirror_mode": {
    "name": "ipython",
    "version": 2
   },
   "file_extension": ".py",
   "mimetype": "text/x-python",
   "name": "python",
   "nbconvert_exporter": "python",
   "pygments_lexer": "ipython2",
   "version": "2.7.6"
  }
 },
 "nbformat": 4,
 "nbformat_minor": 0
}