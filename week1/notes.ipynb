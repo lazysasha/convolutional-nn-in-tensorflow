{
 "cells": [
  {
   "cell_type": "markdown",
   "metadata": {
    "collapsed": true,
    "pycharm": {
     "name": "#%% md\n"
    }
   },
   "source": [
    "# Week 1: Exploring a Larger Dataset\n",
    "We will use a bigger Kaggle Dogs v Cats  (25K images). Last week we had a dataset of 1K.\n",
    "\n",
    "## Over fitting\n",
    "With a smaller data set there is a great risk of over fitting. With a larger DS over fitting risk is smaller, but it can still happen!\n",
    "\n",
    "In **Week 2** we apply data augmentation techniques that help dealing with over fitting: like take a mirror image of a cat, rotate, skew, flip, move around the frame etc.\n",
    "Using the TF image generation lib all augmentation happens in memory (no need to manually change the images).\n",
    "\n",
    "In **Week 3** we use Transfer Learning that helps dealing with over fitting.\n",
    "\n",
    "In **Week 4** we apply multi-class learning that allows predicting more than 2 classes of outcomes e.g. rock, paper, scissors.s"
   ]
  },
  {
   "cell_type": "markdown",
   "source": [
    "# Training with the cats vs. dogs dataset\n",
    "[Kaggle](www.kaggle.com) - is a platform that contains multiple ML challenges.\n",
    "\n",
    "If we put images under named subdirectories, the image generator will auto label them for us - that allows labelling them and subdividing into training and validation sets."
   ],
   "metadata": {
    "collapsed": false,
    "pycharm": {
     "name": "#%% md\n"
    }
   }
  },
  {
   "cell_type": "code",
   "source": [
    "import tensorflow as tf\n",
    "train_datagen = tf.keras.preprocessing.image.ImageDataGenerator(rescale=1./255)\n",
    "train_dir = 'TODO'\n",
    "train_generator = train_datagen.flow_from_directory(\n",
    "    train_dir,\n",
    "    target_size=(150,150), # will resize all images to 150x150 on the fly\n",
    "    batch_size=20, # 2K images, os we use 100 batches of 20 each\n",
    "    class_mode='binary' # just a binary class mode: cat or dog\n",
    ")\n",
    "\n",
    "# Similarly for validation:\n",
    "test_datagen = tf.keras.preprocessing.image.ImageDataGenerator(rescale=1./255)\n",
    "validation_dir = 'TODO'\n",
    "validation_generator = test_datagen.flow_from_directory(\n",
    "    validation_dir,\n",
    "    target_size=(150,150), # will resize all images to 150x150 on the fly\n",
    "    batch_size=20, # 2K images, os we use 100 batches of 20 each\n",
    "    class_mode='binary' # just a binary class mode: cat or dog\n",
    ")\n",
    "\n",
    "# A model has 3 sets of convolutions followed by pooling.\n",
    "# On the output there is a single neuron with a sigmoid activation\n",
    "model = tf.keras.models.Sequential([\n",
    "    tf.keras.layers.Conv2D(16, (3,3), activation='relu', input_shape=(150, 150, 3)),\n",
    "    tf.keras.layers.MaxPooling2D(2, 2),\n",
    "    tf.keras.layers.Conv2D(32, (3,3), activation='relu'),\n",
    "    tf.keras.layers.MaxPooling2D(2, 2),\n",
    "    tf.keras.layers.Conv2D(64, (3,3), activation='relu'),\n",
    "    tf.keras.layers.MaxPooling2D(2, 2),\n",
    "    tf.keras.layers.Flatten(),\n",
    "    tf.keras.layers.Dense(512, activation='relu'),\n",
    "    tf.keras.layers.Dense(1, activation='sigmoids')\n",
    "])\n",
    "\n",
    "# model compilation is done as before:\n",
    "from tensorflow.keras.optimizers import RMSprop\n",
    "\n",
    "model.compile(loss='binary_crossentropy', optimizer=RMSprop(lr=0.001), metrics=['acc'])\n",
    "\n",
    "# Training the model:\n",
    "history = model.fit_generator(\n",
    "    train_generator, # our traaining generator\n",
    "    steps_per_epoch=100,\n",
    "    epochs=15,\n",
    "    validation_data=validation_generator, # our validation generator\n",
    "    validation_steps=50,\n",
    "    verbose=2\n",
    ")\n",
    "\n",
    "\n"
   ],
   "metadata": {
    "collapsed": false,
    "pycharm": {
     "name": "#%%\n"
    }
   },
   "execution_count": null,
   "outputs": []
  }
 ],
 "metadata": {
  "kernelspec": {
   "display_name": "Python 3",
   "language": "python",
   "name": "python3"
  },
  "language_info": {
   "codemirror_mode": {
    "name": "ipython",
    "version": 2
   },
   "file_extension": ".py",
   "mimetype": "text/x-python",
   "name": "python",
   "nbconvert_exporter": "python",
   "pygments_lexer": "ipython2",
   "version": "2.7.6"
  }
 },
 "nbformat": 4,
 "nbformat_minor": 0
}