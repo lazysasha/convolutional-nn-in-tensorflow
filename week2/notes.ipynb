{
 "cells": [
  {
   "cell_type": "markdown",
   "metadata": {
    "collapsed": true,
    "pycharm": {
     "name": "#%% md\n"
    }
   },
   "source": [
    "# Week 2: Augmentation: A technique to avoid overfitting\n",
    "Image Augmentation is a very simple, but very powerful tool to help you avoid overfitting your data.\n",
    "The concept is very simple though: If you have limited data, then the chances of you having data to match potential future predictions is also limited, and logically, the less data you have, the less chance you have of getting accurate predictions for data that your model hasn't yet seen.\n",
    "To put it simply, if you are training a model to spot cats, and your model has never seen what a cat looks like when lying down, it might not recognize that in future.\n",
    "\n",
    "Augmentation simply amends your images on-the-fly while training using transforms like rotation.\n",
    "So, it could 'simulate' an image of a cat lying down by rotating a 'standing' cat by 90 degrees.\n",
    "As such you get a cheap way of extending your dataset beyond what you have already.\n",
    "\n",
    "To learn more about Augmentation, and the available transforms, check out https://github.com/keras-team/keras-preprocessing -- and note that it's referred to as preprocessing for a very powerful reason: that it doesn't require you to edit your raw images, nor does it amend them for you on-disk.\n",
    "It does it in-memory as it's performing the training, allowing you to experiment without impacting your dataset."
   ]
  },
  {
   "cell_type": "code",
   "source": [
    "import tensorflow as tf\n",
    "train_datagen = tf.keras.preprocessing.image.ImageDataGenerator(rescale=1./255) # image augmentation via scaling\n",
    "\n",
    "#Some other options:\n",
    "train_datagen = tf.keras.preprocessing.image.ImageDataGenerator(\n",
    "    rescale=1./255,\n",
    "    rotation_range=40, # range from 0 to 180 degrees to which to rotate the image -> image will rotate by a random amount betwee 0 and 40 degrees\n",
    "    width_shift_range=0.2, # shifting oves the image around inside its frame; is a proportion of image size of how much we should move the image (20% of height and width in this case)\n",
    "    height_shift_range=0.2,\n",
    "    shear_range=0.2, # will shear the image in random amounts up to a given number (20% in this case)\n",
    "    zoom_range=0.2, # zooms into the image, a random amount up to 20% in this case\n",
    "    horizontal_flip=True, # simply flips the image horizontally (from left to right)\n",
    "    fill_mode='nearest' # fills in any pixels that might be lost during operations; uses neighbours of that pixels to keep it uniform.\n",
    ")\n",
    "\n"
   ],
   "metadata": {
    "collapsed": false,
    "pycharm": {
     "name": "#%%\n"
    }
   },
   "execution_count": null,
   "outputs": []
  }
 ],
 "metadata": {
  "kernelspec": {
   "display_name": "Python 3",
   "language": "python",
   "name": "python3"
  },
  "language_info": {
   "codemirror_mode": {
    "name": "ipython",
    "version": 2
   },
   "file_extension": ".py",
   "mimetype": "text/x-python",
   "name": "python",
   "nbconvert_exporter": "python",
   "pygments_lexer": "ipython2",
   "version": "2.7.6"
  }
 },
 "nbformat": 4,
 "nbformat_minor": 0
}